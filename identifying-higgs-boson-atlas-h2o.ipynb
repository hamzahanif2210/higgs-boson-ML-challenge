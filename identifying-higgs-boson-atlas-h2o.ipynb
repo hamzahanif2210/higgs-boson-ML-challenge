{
 "cells": [
  {
   "cell_type": "code",
   "execution_count": 1,
   "metadata": {
    "_cell_guid": "b1076dfc-b9ad-4769-8c92-a6c4dae69d19",
    "_uuid": "8f2839f25d086af736a60e9eeb907d3b93b6e0e5"
   },
   "outputs": [],
   "source": [
    "import h2o\n",
    "from h2o.estimators.deeplearning import H2ODeepLearningEstimator\n",
    "\n",
    "import matplotlib.pyplot as plt\n",
    "import numpy as np\n",
    "import pandas as pd\n",
    "\n",
    "%matplotlib inline"
   ]
  },
  {
   "cell_type": "code",
   "execution_count": 2,
   "metadata": {
    "_cell_guid": "79c7e3d0-c299-4dcb-8224-4455121ee9b0",
    "_uuid": "d629ff2d2480ee46fbb7e2d37f6b5fab8052498a"
   },
   "outputs": [
    {
     "name": "stdout",
     "output_type": "stream",
     "text": [
      "Checking whether there is an H2O instance running at http://localhost:54321..... not found.\n",
      "Attempting to start a local H2O server...\n",
      "  Java Version: openjdk version \"1.8.0_181\"; OpenJDK Runtime Environment (build 1.8.0_181-8u181-b13-2~deb9u1-b13); OpenJDK 64-Bit Server VM (build 25.181-b13, mixed mode)\n",
      "  Starting server from /opt/conda/lib/python3.6/site-packages/h2o/backend/bin/h2o.jar\n",
      "  Ice root: /tmp/tmpy5rqj7oo\n",
      "  JVM stdout: /tmp/tmpy5rqj7oo/h2o_unknownUser_started_from_python.out\n",
      "  JVM stderr: /tmp/tmpy5rqj7oo/h2o_unknownUser_started_from_python.err\n",
      "  Server is running at http://127.0.0.1:54321\n",
      "Connecting to H2O server at http://127.0.0.1:54321... successful.\n"
     ]
    },
    {
     "data": {
      "text/html": [
       "<div style=\"overflow:auto\"><table style=\"width:50%\"><tr><td>H2O cluster uptime:</td>\n",
       "<td>02 secs</td></tr>\n",
       "<tr><td>H2O cluster timezone:</td>\n",
       "<td>Etc/UTC</td></tr>\n",
       "<tr><td>H2O data parsing timezone:</td>\n",
       "<td>UTC</td></tr>\n",
       "<tr><td>H2O cluster version:</td>\n",
       "<td>3.22.1.4</td></tr>\n",
       "<tr><td>H2O cluster version age:</td>\n",
       "<td>16 days </td></tr>\n",
       "<tr><td>H2O cluster name:</td>\n",
       "<td>H2O_from_python_unknownUser_3wfuck</td></tr>\n",
       "<tr><td>H2O cluster total nodes:</td>\n",
       "<td>1</td></tr>\n",
       "<tr><td>H2O cluster free memory:</td>\n",
       "<td>1.778 Gb</td></tr>\n",
       "<tr><td>H2O cluster total cores:</td>\n",
       "<td>4</td></tr>\n",
       "<tr><td>H2O cluster allowed cores:</td>\n",
       "<td>4</td></tr>\n",
       "<tr><td>H2O cluster status:</td>\n",
       "<td>accepting new members, healthy</td></tr>\n",
       "<tr><td>H2O connection url:</td>\n",
       "<td>http://127.0.0.1:54321</td></tr>\n",
       "<tr><td>H2O connection proxy:</td>\n",
       "<td>None</td></tr>\n",
       "<tr><td>H2O internal security:</td>\n",
       "<td>False</td></tr>\n",
       "<tr><td>H2O API Extensions:</td>\n",
       "<td>Amazon S3, XGBoost, Algos, AutoML, Core V3, Core V4</td></tr>\n",
       "<tr><td>Python version:</td>\n",
       "<td>3.6.6 final</td></tr></table></div>"
      ],
      "text/plain": [
       "--------------------------  ---------------------------------------------------\n",
       "H2O cluster uptime:         02 secs\n",
       "H2O cluster timezone:       Etc/UTC\n",
       "H2O data parsing timezone:  UTC\n",
       "H2O cluster version:        3.22.1.4\n",
       "H2O cluster version age:    16 days\n",
       "H2O cluster name:           H2O_from_python_unknownUser_3wfuck\n",
       "H2O cluster total nodes:    1\n",
       "H2O cluster free memory:    1.778 Gb\n",
       "H2O cluster total cores:    4\n",
       "H2O cluster allowed cores:  4\n",
       "H2O cluster status:         accepting new members, healthy\n",
       "H2O connection url:         http://127.0.0.1:54321\n",
       "H2O connection proxy:\n",
       "H2O internal security:      False\n",
       "H2O API Extensions:         Amazon S3, XGBoost, Algos, AutoML, Core V3, Core V4\n",
       "Python version:             3.6.6 final\n",
       "--------------------------  ---------------------------------------------------"
      ]
     },
     "metadata": {},
     "output_type": "display_data"
    }
   ],
   "source": [
    "h2o.init(max_mem_size = 2)           \n",
    "h2o.remove_all()"
   ]
  },
  {
   "cell_type": "code",
   "execution_count": 3,
   "metadata": {
    "_uuid": "b12a5cdc5984dd9c777d89c6ca0ef534d806e15c"
   },
   "outputs": [
    {
     "name": "stdout",
     "output_type": "stream",
     "text": [
      "Parse progress: |█████████████████████████████████████████████████████████| 100%\n",
      "Parse progress: |█████████████████████████████████████████████████████████| 100%\n"
     ]
    }
   ],
   "source": [
    "higgs_train = h2o.import_file('../input/training/training.csv')\n",
    "higgs_test = h2o.import_file('../input/test/test.csv')"
   ]
  },
  {
   "cell_type": "code",
   "execution_count": 4,
   "metadata": {
    "_uuid": "199260f6635dff08973cd4cda5f97a6be436af98"
   },
   "outputs": [
    {
     "name": "stdout",
     "output_type": "stream",
     "text": [
      "Rows:250000\n",
      "Cols:33\n",
      "\n",
      "\n"
     ]
    },
    {
     "data": {
      "text/html": [
       "<table>\n",
       "<thead>\n",
       "<tr><th>       </th><th>EventId          </th><th>DER_mass_MMC      </th><th>DER_mass_transverse_met_lep  </th><th>DER_mass_vis     </th><th>DER_pt_h          </th><th>DER_deltaeta_jet_jet  </th><th>DER_mass_jet_jet  </th><th>DER_prodeta_jet_jet  </th><th>DER_deltar_tau_lep  </th><th>DER_pt_tot        </th><th>DER_sum_pt        </th><th>DER_pt_ratio_lep_tau  </th><th>DER_met_phi_centrality  </th><th>DER_lep_eta_centrality  </th><th>PRI_tau_pt        </th><th>PRI_tau_eta          </th><th>PRI_tau_phi          </th><th>PRI_lep_pt       </th><th>PRI_lep_eta          </th><th>PRI_lep_phi        </th><th>PRI_met          </th><th>PRI_met_phi          </th><th>PRI_met_sumet     </th><th>PRI_jet_num       </th><th>PRI_jet_leading_pt  </th><th>PRI_jet_leading_eta  </th><th>PRI_jet_leading_phi  </th><th>PRI_jet_subleading_pt  </th><th>PRI_jet_subleading_eta  </th><th>PRI_jet_subleading_phi  </th><th>PRI_jet_all_pt   </th><th>Weight            </th><th>Label  </th></tr>\n",
       "</thead>\n",
       "<tbody>\n",
       "<tr><td>type   </td><td>int              </td><td>real              </td><td>real                         </td><td>real             </td><td>real              </td><td>real                  </td><td>real              </td><td>real                 </td><td>real                </td><td>real              </td><td>real              </td><td>real                  </td><td>real                    </td><td>real                    </td><td>real              </td><td>real                 </td><td>real                 </td><td>real             </td><td>real                 </td><td>real               </td><td>real             </td><td>real                 </td><td>real              </td><td>int               </td><td>real                </td><td>real                 </td><td>real                 </td><td>real                   </td><td>real                    </td><td>real                    </td><td>real             </td><td>real              </td><td>enum   </td></tr>\n",
       "<tr><td>mins   </td><td>100000.0         </td><td>-999.0            </td><td>0.0                          </td><td>6.329            </td><td>0.0               </td><td>-999.0                </td><td>-999.0            </td><td>-999.0               </td><td>0.208               </td><td>0.0               </td><td>46.104            </td><td>0.047                 </td><td>-1.414                  </td><td>-999.0                  </td><td>20.0              </td><td>-2.499               </td><td>-3.142               </td><td>26.0             </td><td>-2.505               </td><td>-3.142             </td><td>0.109            </td><td>-3.142               </td><td>13.678            </td><td>0.0               </td><td>-999.0              </td><td>-999.0               </td><td>-999.0               </td><td>-999.0                 </td><td>-999.0                  </td><td>-999.0                  </td><td>0.0              </td><td>0.00150187015894  </td><td>       </td></tr>\n",
       "<tr><td>mean   </td><td>224999.5         </td><td>-49.02307943999997</td><td>49.23981927600006            </td><td>81.18198161200002</td><td>57.895961656000004</td><td>-708.4206754000005    </td><td>-601.2370507319996</td><td>-709.3566028999993   </td><td>2.3730998440000004  </td><td>18.917332443999992</td><td>158.432217048     </td><td>1.437609432000002     </td><td>-0.12830470800000007    </td><td>-708.9851891319996      </td><td>38.70741912799999 </td><td>-0.010973047999999978</td><td>-0.008171071999999982</td><td>46.66020724800002</td><td>-0.019507468000000052</td><td>0.04354296400000001</td><td>41.71723452399993</td><td>-0.010119191999999997</td><td>209.79717763200009</td><td>0.9791759999999993</td><td>-348.32956718800017 </td><td>-399.25431389199974  </td><td>-399.25978800799993  </td><td>-692.3812035479996     </td><td>-709.1216091639996      </td><td>-709.118631135999       </td><td>73.06459138399991</td><td>1.6467673437182964</td><td>       </td></tr>\n",
       "<tr><td>maxs   </td><td>349999.0         </td><td>1192.026          </td><td>690.075                      </td><td>1349.351         </td><td>2834.999          </td><td>8.503                 </td><td>4974.979          </td><td>16.69                </td><td>5.684               </td><td>2834.999          </td><td>1852.462          </td><td>19.773                </td><td>1.414                   </td><td>1.0                     </td><td>764.408           </td><td>2.497                </td><td>3.142                </td><td>560.271          </td><td>2.503                </td><td>3.142              </td><td>2842.617         </td><td>3.142                </td><td>2003.976          </td><td>3.0               </td><td>1120.573            </td><td>4.499                </td><td>3.141                </td><td>721.456                </td><td>4.5                     </td><td>3.142                   </td><td>1633.433         </td><td>7.82254254503     </td><td>       </td></tr>\n",
       "<tr><td>sigma  </td><td>72168.92798612619</td><td>406.3456467028014 </td><td>35.344885611871874           </td><td>40.82869053241533</td><td>63.655681618336295</td><td>454.4805651106833     </td><td>657.9723021131682 </td><td>453.01987655208734   </td><td>0.7829111186453127  </td><td>22.273493751956487</td><td>115.70611513348777</td><td>0.8447429446613964    </td><td>1.1935848357750178      </td><td>453.5967212021903       </td><td>22.412080666702142</td><td>1.2140786460280995   </td><td>1.8167630443748604   </td><td>22.0649224049562 </td><td>1.2649821484873096   </td><td>1.81661126281547   </td><td>32.89469319196888</td><td>1.81222270198719     </td><td>126.49950571643991</td><td>0.9774263053922423</td><td>532.9627893583422   </td><td>489.3382860179392    </td><td>489.3338833209041    </td><td>479.87549584539084     </td><td>453.3846240477962       </td><td>453.3890172736703       </td><td>98.01566200825654</td><td>1.8751033154986634</td><td>       </td></tr>\n",
       "<tr><td>zeros  </td><td>0                </td><td>0                 </td><td>3                            </td><td>0                </td><td>41                </td><td>6                     </td><td>0                 </td><td>58                   </td><td>0                   </td><td>39                </td><td>0                 </td><td>0                     </td><td>53                      </td><td>15752                   </td><td>0                 </td><td>0                    </td><td>32                   </td><td>0                </td><td>35                   </td><td>33                 </td><td>0                </td><td>44                   </td><td>0                 </td><td>99913             </td><td>0                   </td><td>26                   </td><td>19                   </td><td>0                      </td><td>9                       </td><td>10                      </td><td>99913            </td><td>0                 </td><td>       </td></tr>\n",
       "<tr><td>missing</td><td>0                </td><td>0                 </td><td>0                            </td><td>0                </td><td>0                 </td><td>0                     </td><td>0                 </td><td>0                    </td><td>0                   </td><td>0                 </td><td>0                 </td><td>0                     </td><td>0                       </td><td>0                       </td><td>0                 </td><td>0                    </td><td>0                    </td><td>0                </td><td>0                    </td><td>0                  </td><td>0                </td><td>0                    </td><td>0                 </td><td>0                 </td><td>0                   </td><td>0                    </td><td>0                    </td><td>0                      </td><td>0                       </td><td>0                       </td><td>0                </td><td>0                 </td><td>0      </td></tr>\n",
       "<tr><td>0      </td><td>100000.0         </td><td>138.47            </td><td>51.655                       </td><td>97.827           </td><td>27.98             </td><td>0.91                  </td><td>124.711           </td><td>2.666                </td><td>3.064               </td><td>41.928            </td><td>197.76            </td><td>1.582                 </td><td>1.396                   </td><td>0.2                     </td><td>32.638            </td><td>1.017                </td><td>0.381                </td><td>51.626           </td><td>2.273                </td><td>-2.414             </td><td>16.824           </td><td>-0.277               </td><td>258.733           </td><td>2.0               </td><td>67.435              </td><td>2.15                 </td><td>0.444                </td><td>46.062                 </td><td>1.24                    </td><td>-2.475                  </td><td>113.497          </td><td>0.00265331133733  </td><td>s      </td></tr>\n",
       "<tr><td>1      </td><td>100001.0         </td><td>160.937           </td><td>68.768                       </td><td>103.235          </td><td>48.146            </td><td>-999.0                </td><td>-999.0            </td><td>-999.0               </td><td>3.473               </td><td>2.078             </td><td>125.157           </td><td>0.879                 </td><td>1.414                   </td><td>-999.0                  </td><td>42.014            </td><td>2.039                </td><td>-3.011               </td><td>36.918           </td><td>0.501                </td><td>0.103              </td><td>44.704           </td><td>-1.916               </td><td>164.546           </td><td>1.0               </td><td>46.226              </td><td>0.725                </td><td>1.158                </td><td>-999.0                 </td><td>-999.0                  </td><td>-999.0                  </td><td>46.226           </td><td>2.23358448717     </td><td>b      </td></tr>\n",
       "<tr><td>2      </td><td>100002.0         </td><td>-999.0            </td><td>162.172                      </td><td>125.953          </td><td>35.635            </td><td>-999.0                </td><td>-999.0            </td><td>-999.0               </td><td>3.148               </td><td>9.336             </td><td>197.814           </td><td>3.776                 </td><td>1.414                   </td><td>-999.0                  </td><td>32.154            </td><td>-0.705               </td><td>-2.093               </td><td>121.409          </td><td>-0.953               </td><td>1.052              </td><td>54.283           </td><td>-2.186               </td><td>260.414           </td><td>1.0               </td><td>44.251              </td><td>2.053                </td><td>-2.028               </td><td>-999.0                 </td><td>-999.0                  </td><td>-999.0                  </td><td>44.251           </td><td>2.34738894364     </td><td>b      </td></tr>\n",
       "<tr><td>3      </td><td>100003.0         </td><td>143.905           </td><td>81.417                       </td><td>80.943           </td><td>0.414             </td><td>-999.0                </td><td>-999.0            </td><td>-999.0               </td><td>3.31                </td><td>0.414             </td><td>75.968            </td><td>2.354                 </td><td>-1.285                  </td><td>-999.0                  </td><td>22.647            </td><td>-1.655               </td><td>0.01                 </td><td>53.321           </td><td>-0.522               </td><td>-3.1               </td><td>31.082           </td><td>0.06                 </td><td>86.062            </td><td>0.0               </td><td>-999.0              </td><td>-999.0               </td><td>-999.0               </td><td>-999.0                 </td><td>-999.0                  </td><td>-999.0                  </td><td>0.0              </td><td>5.44637821192     </td><td>b      </td></tr>\n",
       "<tr><td>4      </td><td>100004.0         </td><td>175.864           </td><td>16.915                       </td><td>134.805          </td><td>16.405            </td><td>-999.0                </td><td>-999.0            </td><td>-999.0               </td><td>3.891               </td><td>16.405            </td><td>57.983            </td><td>1.056                 </td><td>-1.385                  </td><td>-999.0                  </td><td>28.209            </td><td>-2.197               </td><td>-2.231               </td><td>29.774           </td><td>0.798                </td><td>1.569              </td><td>2.723            </td><td>-0.871               </td><td>53.131            </td><td>0.0               </td><td>-999.0              </td><td>-999.0               </td><td>-999.0               </td><td>-999.0                 </td><td>-999.0                  </td><td>-999.0                  </td><td>0.0              </td><td>6.24533268686     </td><td>b      </td></tr>\n",
       "<tr><td>5      </td><td>100005.0         </td><td>89.744            </td><td>13.55                        </td><td>59.149           </td><td>116.344           </td><td>2.636                 </td><td>284.584           </td><td>-0.54                </td><td>1.362               </td><td>61.619            </td><td>278.876           </td><td>0.588                 </td><td>0.479                   </td><td>0.975                   </td><td>53.651            </td><td>0.371                </td><td>1.329                </td><td>31.565           </td><td>-0.884               </td><td>1.857              </td><td>40.735           </td><td>2.237                </td><td>282.849           </td><td>3.0               </td><td>90.547              </td><td>-2.412               </td><td>-0.653               </td><td>56.165                 </td><td>0.224                   </td><td>3.106                   </td><td>193.66           </td><td>0.0834140312717   </td><td>b      </td></tr>\n",
       "<tr><td>6      </td><td>100006.0         </td><td>148.754           </td><td>28.862                       </td><td>107.782          </td><td>106.13            </td><td>0.733                 </td><td>158.359           </td><td>0.113                </td><td>2.941               </td><td>2.545             </td><td>305.967           </td><td>3.371                 </td><td>1.393                   </td><td>0.791                   </td><td>28.85             </td><td>1.113                </td><td>2.409                </td><td>97.24            </td><td>0.675                </td><td>-0.966             </td><td>38.421           </td><td>-1.443               </td><td>294.074           </td><td>2.0               </td><td>123.01              </td><td>0.864                </td><td>1.45                 </td><td>56.867                 </td><td>0.131                   </td><td>-2.767                  </td><td>179.877          </td><td>0.00265331133733  </td><td>s      </td></tr>\n",
       "<tr><td>7      </td><td>100007.0         </td><td>154.916           </td><td>10.418                       </td><td>94.714           </td><td>29.169            </td><td>-999.0                </td><td>-999.0            </td><td>-999.0               </td><td>2.897               </td><td>1.526             </td><td>138.178           </td><td>0.365                 </td><td>-1.305                  </td><td>-999.0                  </td><td>78.8              </td><td>0.654                </td><td>1.547                </td><td>28.74            </td><td>0.506                </td><td>-1.347             </td><td>22.275           </td><td>-1.761               </td><td>187.299           </td><td>1.0               </td><td>30.638              </td><td>-0.715               </td><td>-1.724               </td><td>-999.0                 </td><td>-999.0                  </td><td>-999.0                  </td><td>30.638           </td><td>0.018636116672    </td><td>s      </td></tr>\n",
       "<tr><td>8      </td><td>100008.0         </td><td>105.594           </td><td>50.559                       </td><td>100.989          </td><td>4.288             </td><td>-999.0                </td><td>-999.0            </td><td>-999.0               </td><td>2.904               </td><td>4.288             </td><td>65.333            </td><td>0.675                 </td><td>-1.366                  </td><td>-999.0                  </td><td>39.008            </td><td>2.433                </td><td>-2.532               </td><td>26.325           </td><td>0.21                 </td><td>1.884              </td><td>37.791           </td><td>0.024                </td><td>129.804           </td><td>0.0               </td><td>-999.0              </td><td>-999.0               </td><td>-999.0               </td><td>-999.0                 </td><td>-999.0                  </td><td>-999.0                  </td><td>0.0              </td><td>5.29600298518     </td><td>b      </td></tr>\n",
       "<tr><td>9      </td><td>100009.0         </td><td>128.053           </td><td>88.941                       </td><td>69.272           </td><td>193.392           </td><td>-999.0                </td><td>-999.0            </td><td>-999.0               </td><td>1.609               </td><td>28.859            </td><td>255.123           </td><td>0.599                 </td><td>0.538                   </td><td>-999.0                  </td><td>54.646            </td><td>-1.533               </td><td>0.416                </td><td>32.742           </td><td>-0.317               </td><td>-0.636             </td><td>132.678          </td><td>0.845                </td><td>294.741           </td><td>1.0               </td><td>167.735             </td><td>-2.767               </td><td>-2.514               </td><td>-999.0                 </td><td>-999.0                  </td><td>-999.0                  </td><td>167.735          </td><td>0.00150187015894  </td><td>s      </td></tr>\n",
       "</tbody>\n",
       "</table>"
      ]
     },
     "metadata": {},
     "output_type": "display_data"
    }
   ],
   "source": [
    "higgs_train.describe()"
   ]
  },
  {
   "cell_type": "code",
   "execution_count": 5,
   "metadata": {
    "_uuid": "0d5b5f4843b91daba51278f02123cf04061f8968"
   },
   "outputs": [
    {
     "name": "stdout",
     "output_type": "stream",
     "text": [
      "Rows:550000\n",
      "Cols:31\n",
      "\n",
      "\n"
     ]
    },
    {
     "data": {
      "text/html": [
       "<table>\n",
       "<thead>\n",
       "<tr><th>       </th><th>EventId           </th><th>DER_mass_MMC      </th><th>DER_mass_transverse_met_lep  </th><th>DER_mass_vis      </th><th>DER_pt_h          </th><th>DER_deltaeta_jet_jet  </th><th>DER_mass_jet_jet  </th><th>DER_prodeta_jet_jet  </th><th>DER_deltar_tau_lep  </th><th>DER_pt_tot        </th><th>DER_sum_pt        </th><th>DER_pt_ratio_lep_tau  </th><th>DER_met_phi_centrality  </th><th>DER_lep_eta_centrality  </th><th>PRI_tau_pt       </th><th>PRI_tau_eta          </th><th>PRI_tau_phi          </th><th>PRI_lep_pt        </th><th>PRI_lep_eta          </th><th>PRI_lep_phi        </th><th>PRI_met          </th><th>PRI_met_phi          </th><th>PRI_met_sumet     </th><th>PRI_jet_num       </th><th>PRI_jet_leading_pt  </th><th>PRI_jet_leading_eta  </th><th>PRI_jet_leading_phi  </th><th>PRI_jet_subleading_pt  </th><th>PRI_jet_subleading_eta  </th><th>PRI_jet_subleading_phi  </th><th>PRI_jet_all_pt   </th></tr>\n",
       "</thead>\n",
       "<tbody>\n",
       "<tr><td>type   </td><td>int               </td><td>real              </td><td>real                         </td><td>real              </td><td>real              </td><td>real                  </td><td>real              </td><td>real                 </td><td>real                </td><td>real              </td><td>real              </td><td>real                  </td><td>real                    </td><td>real                    </td><td>real             </td><td>real                 </td><td>real                 </td><td>real              </td><td>real                 </td><td>real               </td><td>real             </td><td>real                 </td><td>real              </td><td>int               </td><td>real                </td><td>real                 </td><td>real                 </td><td>real                   </td><td>real                    </td><td>real                    </td><td>real             </td></tr>\n",
       "<tr><td>mins   </td><td>350000.0          </td><td>-999.0            </td><td>0.0                          </td><td>6.81              </td><td>0.0               </td><td>-999.0                </td><td>-999.0            </td><td>-999.0               </td><td>0.237               </td><td>0.0               </td><td>46.103            </td><td>0.055                 </td><td>-1.414                  </td><td>-999.0                  </td><td>20.0             </td><td>-2.499               </td><td>-3.142               </td><td>26.0              </td><td>-2.508               </td><td>-3.142             </td><td>0.051            </td><td>-3.142               </td><td>13.847            </td><td>0.0               </td><td>-999.0              </td><td>-999.0               </td><td>-999.0               </td><td>-999.0                 </td><td>-999.0                  </td><td>-999.0                  </td><td>0.0              </td></tr>\n",
       "<tr><td>mean   </td><td>624999.5          </td><td>-48.95014380545456</td><td>49.26109327454554            </td><td>81.12390393272712 </td><td>57.824800905454595</td><td>-707.4488780127281    </td><td>-599.7059046600003</td><td>-708.3914245781832   </td><td>2.3740761200000073  </td><td>18.988276967272757</td><td>158.65974856727323</td><td>1.4394145763636355    </td><td>-0.12694181090909115    </td><td>-708.0157559854533      </td><td>38.69683138363645</td><td>-0.011861305454545456</td><td>-0.015815007272727295</td><td>46.71406235454543 </td><td>-0.018781052727272717</td><td>0.05179733454545454</td><td>41.62723119818186</td><td>-0.008214360000000014</td><td>209.93369488545483</td><td>0.9801709090909093</td><td>-348.9466840672726  </td><td>-399.88383894545416  </td><td>-399.89623447454505  </td><td>-691.3092768418176     </td><td>-708.1506051490906      </td><td>-708.1530578727264      </td><td>73.24885610545459</td></tr>\n",
       "<tr><td>maxs   </td><td>899999.0          </td><td>1949.261          </td><td>968.669                      </td><td>1264.965          </td><td>1337.187          </td><td>8.724                 </td><td>4794.827          </td><td>17.294               </td><td>5.751               </td><td>759.363           </td><td>2079.162          </td><td>32.228                </td><td>1.414                   </td><td>1.0                     </td><td>627.023          </td><td>2.5                  </td><td>3.142                </td><td>701.328           </td><td>2.506                </td><td>3.142              </td><td>1254.363         </td><td>3.142                </td><td>2190.275          </td><td>3.0               </td><td>1163.439            </td><td>4.5                  </td><td>3.142                </td><td>817.801                </td><td>4.5                     </td><td>3.142                   </td><td>1860.175         </td></tr>\n",
       "<tr><td>sigma  </td><td>158771.46836464878</td><td>406.2336857047821 </td><td>35.42542224835444            </td><td>40.435559635053025</td><td>63.29131449614005 </td><td>454.92879097639536    </td><td>659.1295886324864 </td><td>453.4612217477622    </td><td>0.7798945077457625  </td><td>21.767376446147207</td><td>116.23758884551266</td><td>0.8450259764113148    </td><td>1.1945034107323074      </td><td>454.04333031014244      </td><td>22.42160253515038</td><td>1.2133437634189332   </td><td>1.816022751318418    </td><td>22.174519358031276</td><td>1.2641465666647782   </td><td>1.8140551884848883 </td><td>32.32445724907341</td><td>1.8127767586906602   </td><td>126.91007907106807</td><td>0.9792712530770781</td><td>533.1551761813583   </td><td>489.4677863470162    </td><td>489.45774746013177   </td><td>480.4352298428811      </td><td>453.834190219432        </td><td>453.83009510274985      </td><td>98.46713409189762</td></tr>\n",
       "<tr><td>zeros  </td><td>0                 </td><td>0                 </td><td>6                            </td><td>0                 </td><td>78                </td><td>29                    </td><td>0                 </td><td>125                  </td><td>0                   </td><td>78                </td><td>0                 </td><td>0                     </td><td>114                     </td><td>34624                   </td><td>0                </td><td>0                    </td><td>79                   </td><td>0                 </td><td>83                   </td><td>81                 </td><td>0                </td><td>89                   </td><td>0                 </td><td>220156            </td><td>0                   </td><td>64                   </td><td>57                   </td><td>0                      </td><td>38                      </td><td>24                      </td><td>220156           </td></tr>\n",
       "<tr><td>missing</td><td>0                 </td><td>0                 </td><td>0                            </td><td>0                 </td><td>0                 </td><td>0                     </td><td>0                 </td><td>0                    </td><td>0                   </td><td>0                 </td><td>0                 </td><td>0                     </td><td>0                       </td><td>0                       </td><td>0                </td><td>0                    </td><td>0                    </td><td>0                 </td><td>0                    </td><td>0                  </td><td>0                </td><td>0                    </td><td>0                 </td><td>0                 </td><td>0                   </td><td>0                    </td><td>0                    </td><td>0                      </td><td>0                       </td><td>0                       </td><td>0                </td></tr>\n",
       "<tr><td>0      </td><td>350000.0          </td><td>-999.0            </td><td>79.589                       </td><td>23.916            </td><td>3.036             </td><td>-999.0                </td><td>-999.0            </td><td>-999.0               </td><td>0.903               </td><td>3.036             </td><td>56.018            </td><td>1.536                 </td><td>-1.404                  </td><td>-999.0                  </td><td>22.088           </td><td>-0.54                </td><td>-0.609               </td><td>33.93             </td><td>-0.504               </td><td>-1.511             </td><td>48.509           </td><td>2.022                </td><td>98.556            </td><td>0.0               </td><td>-999.0              </td><td>-999.0               </td><td>-999.0               </td><td>-999.0                 </td><td>-999.0                  </td><td>-999.0                  </td><td>0.0              </td></tr>\n",
       "<tr><td>1      </td><td>350001.0          </td><td>106.398           </td><td>67.49                        </td><td>87.949            </td><td>49.994            </td><td>-999.0                </td><td>-999.0            </td><td>-999.0               </td><td>2.048               </td><td>2.679             </td><td>132.865           </td><td>1.777                 </td><td>-1.204                  </td><td>-999.0                  </td><td>30.716           </td><td>-1.784               </td><td>3.054                </td><td>54.574            </td><td>-0.169               </td><td>1.795              </td><td>21.093           </td><td>-1.138               </td><td>176.251           </td><td>1.0               </td><td>47.575              </td><td>-0.553               </td><td>-0.849               </td><td>-999.0                 </td><td>-999.0                  </td><td>-999.0                  </td><td>47.575           </td></tr>\n",
       "<tr><td>2      </td><td>350002.0          </td><td>117.794           </td><td>56.226                       </td><td>96.358            </td><td>4.137             </td><td>-999.0                </td><td>-999.0            </td><td>-999.0               </td><td>2.755               </td><td>4.137             </td><td>97.6              </td><td>1.096                 </td><td>-1.408                  </td><td>-999.0                  </td><td>46.564           </td><td>-0.298               </td><td>3.079                </td><td>51.036            </td><td>-0.548               </td><td>0.336              </td><td>19.461           </td><td>-1.868               </td><td>111.505           </td><td>0.0               </td><td>-999.0              </td><td>-999.0               </td><td>-999.0               </td><td>-999.0                 </td><td>-999.0                  </td><td>-999.0                  </td><td>0.0              </td></tr>\n",
       "<tr><td>3      </td><td>350003.0          </td><td>135.861           </td><td>30.604                       </td><td>97.288            </td><td>9.104             </td><td>-999.0                </td><td>-999.0            </td><td>-999.0               </td><td>2.811               </td><td>9.104             </td><td>94.112            </td><td>0.819                 </td><td>-1.382                  </td><td>-999.0                  </td><td>51.741           </td><td>0.388                </td><td>-1.408               </td><td>42.371            </td><td>-0.295               </td><td>2.148              </td><td>25.131           </td><td>1.172                </td><td>164.707           </td><td>0.0               </td><td>-999.0              </td><td>-999.0               </td><td>-999.0               </td><td>-999.0                 </td><td>-999.0                  </td><td>-999.0                  </td><td>0.0              </td></tr>\n",
       "<tr><td>4      </td><td>350004.0          </td><td>74.159            </td><td>82.772                       </td><td>58.731            </td><td>89.646            </td><td>1.347                 </td><td>536.663           </td><td>-0.339               </td><td>1.028               </td><td>77.213            </td><td>721.552           </td><td>1.713                 </td><td>-0.913                  </td><td>0.004                   </td><td>45.087           </td><td>-1.548               </td><td>1.877                </td><td>77.252            </td><td>-1.913               </td><td>2.838              </td><td>22.2             </td><td>-0.231               </td><td>869.614           </td><td>3.0               </td><td>254.085             </td><td>-1.013               </td><td>-0.334               </td><td>185.857                </td><td>0.335                   </td><td>2.587                   </td><td>599.213          </td></tr>\n",
       "<tr><td>5      </td><td>350005.0          </td><td>95.709            </td><td>94.168                       </td><td>66.28             </td><td>14.719            </td><td>-999.0                </td><td>-999.0            </td><td>-999.0               </td><td>3.065               </td><td>14.719            </td><td>70.259            </td><td>2.465                 </td><td>-1.351                  </td><td>-999.0                  </td><td>20.276           </td><td>-1.212               </td><td>2.289                </td><td>49.983            </td><td>-0.63                </td><td>-0.72              </td><td>44.585           </td><td>2.566                </td><td>86.129            </td><td>0.0               </td><td>-999.0              </td><td>-999.0               </td><td>-999.0               </td><td>-999.0                 </td><td>-999.0                  </td><td>-999.0                  </td><td>0.0              </td></tr>\n",
       "<tr><td>6      </td><td>350006.0          </td><td>85.798            </td><td>49.059                       </td><td>66.131            </td><td>37.074            </td><td>-999.0                </td><td>-999.0            </td><td>-999.0               </td><td>2.253               </td><td>1.713             </td><td>93.289            </td><td>0.941                 </td><td>-0.645                  </td><td>-999.0                  </td><td>29.006           </td><td>-1.366               </td><td>-1.861               </td><td>27.293            </td><td>0.351                </td><td>-0.402             </td><td>22.622           </td><td>3.06                 </td><td>98.461            </td><td>1.0               </td><td>36.99               </td><td>-3.277               </td><td>1.369                </td><td>-999.0                 </td><td>-999.0                  </td><td>-999.0                  </td><td>36.99            </td></tr>\n",
       "<tr><td>7      </td><td>350007.0          </td><td>429.273           </td><td>75.057                       </td><td>234.61            </td><td>71.019            </td><td>0.59                  </td><td>174.261           </td><td>2.278                </td><td>4.287               </td><td>4.368             </td><td>256.087           </td><td>1.309                 </td><td>1.325                   </td><td>0.0                     </td><td>33.361           </td><td>1.656                </td><td>1.272                </td><td>43.667            </td><td>-1.938               </td><td>-2.675             </td><td>49.214           </td><td>1.722                </td><td>274.193           </td><td>2.0               </td><td>119.44              </td><td>1.243                </td><td>-0.739               </td><td>59.619                 </td><td>1.833                   </td><td>2.788                   </td><td>179.059          </td></tr>\n",
       "<tr><td>8      </td><td>350008.0          </td><td>70.958            </td><td>66.329                       </td><td>60.95             </td><td>0.758             </td><td>-999.0                </td><td>-999.0            </td><td>-999.0               </td><td>2.37                </td><td>0.758             </td><td>66.573            </td><td>1.593                 </td><td>-1.38                   </td><td>-999.0                  </td><td>25.676           </td><td>1.513                </td><td>0.095                </td><td>40.897            </td><td>1.132                </td><td>2.434              </td><td>30.277           </td><td>-1.389               </td><td>102.088           </td><td>0.0               </td><td>-999.0              </td><td>-999.0               </td><td>-999.0               </td><td>-999.0                 </td><td>-999.0                  </td><td>-999.0                  </td><td>0.0              </td></tr>\n",
       "<tr><td>9      </td><td>350009.0          </td><td>110.539           </td><td>2.82                         </td><td>62.136            </td><td>179.753           </td><td>3.256                 </td><td>337.201           </td><td>-2.059               </td><td>1.092               </td><td>27.018            </td><td>296.802           </td><td>0.311                 </td><td>1.067                   </td><td>0.999                   </td><td>107.14           </td><td>0.676                </td><td>-1.826               </td><td>33.368            </td><td>0.72                 </td><td>-0.734             </td><td>67.325           </td><td>-0.794               </td><td>361.566           </td><td>2.0               </td><td>115.867             </td><td>-0.859               </td><td>1.961                </td><td>40.427                 </td><td>2.397                   </td><td>1.479                   </td><td>156.294          </td></tr>\n",
       "</tbody>\n",
       "</table>"
      ]
     },
     "metadata": {},
     "output_type": "display_data"
    }
   ],
   "source": [
    "higgs_test.describe()"
   ]
  },
  {
   "cell_type": "code",
   "execution_count": 6,
   "metadata": {
    "_uuid": "7753ec87758d286af0e7f5889ca95ded042aef27"
   },
   "outputs": [],
   "source": [
    "train, valid, test = higgs_train.split_frame([0.6, 0.2], seed = 2019)\n",
    "higgs_X = higgs_train.col_names[1: -1]\n",
    "higgs_y = higgs_train.col_names[-1]"
   ]
  },
  {
   "cell_type": "code",
   "execution_count": 7,
   "metadata": {
    "_uuid": "42d226a74fc62a7aea249a88dacb1f9d01fe1fda"
   },
   "outputs": [
    {
     "name": "stdout",
     "output_type": "stream",
     "text": [
      "deeplearning Model Build progress: |██████████████████████████████████████| 100%\n",
      "Model Details\n",
      "=============\n",
      "H2ODeepLearningEstimator :  Deep Learning\n",
      "Model Key:  higgs_v1\n",
      "\n",
      "\n",
      "ModelMetricsBinomial: deeplearning\n",
      "** Reported on train data. **\n",
      "\n",
      "MSE: 0.026073050390430556\n",
      "RMSE: 0.1614715157246954\n",
      "LogLoss: 0.09243322602509785\n",
      "Mean Per-Class Error: 0.030716778174706416\n",
      "AUC: 0.9935350452752101\n",
      "pr_auc: 0.9659089004108511\n",
      "Gini: 0.9870700905504202\n",
      "Confusion Matrix (Act/Pred) for max f1 @ threshold = 0.33502486084829775: \n"
     ]
    },
    {
     "data": {
      "text/html": [
       "<div style=\"overflow:auto\"><table style=\"width:50%\"><tr><td><b></b></td>\n",
       "<td><b>b</b></td>\n",
       "<td><b>s</b></td>\n",
       "<td><b>Error</b></td>\n",
       "<td><b>Rate</b></td></tr>\n",
       "<tr><td>b</td>\n",
       "<td>6296.0</td>\n",
       "<td>218.0</td>\n",
       "<td>0.0335</td>\n",
       "<td> (218.0/6514.0)</td></tr>\n",
       "<tr><td>s</td>\n",
       "<td>99.0</td>\n",
       "<td>3330.0</td>\n",
       "<td>0.0289</td>\n",
       "<td> (99.0/3429.0)</td></tr>\n",
       "<tr><td>Total</td>\n",
       "<td>6395.0</td>\n",
       "<td>3548.0</td>\n",
       "<td>0.0319</td>\n",
       "<td> (317.0/9943.0)</td></tr></table></div>"
      ],
      "text/plain": [
       "       b     s     Error    Rate\n",
       "-----  ----  ----  -------  --------------\n",
       "b      6296  218   0.0335   (218.0/6514.0)\n",
       "s      99    3330  0.0289   (99.0/3429.0)\n",
       "Total  6395  3548  0.0319   (317.0/9943.0)"
      ]
     },
     "metadata": {},
     "output_type": "display_data"
    },
    {
     "name": "stdout",
     "output_type": "stream",
     "text": [
      "Maximum Metrics: Maximum metrics at their respective thresholds\n",
      "\n"
     ]
    },
    {
     "data": {
      "text/html": [
       "<div style=\"overflow:auto\"><table style=\"width:50%\"><tr><td><b>metric</b></td>\n",
       "<td><b>threshold</b></td>\n",
       "<td><b>value</b></td>\n",
       "<td><b>idx</b></td></tr>\n",
       "<tr><td>max f1</td>\n",
       "<td>0.3350249</td>\n",
       "<td>0.9545650</td>\n",
       "<td>276.0</td></tr>\n",
       "<tr><td>max f2</td>\n",
       "<td>0.0924018</td>\n",
       "<td>0.9725479</td>\n",
       "<td>347.0</td></tr>\n",
       "<tr><td>max f0point5</td>\n",
       "<td>0.7043658</td>\n",
       "<td>0.9529605</td>\n",
       "<td>176.0</td></tr>\n",
       "<tr><td>max accuracy</td>\n",
       "<td>0.3538860</td>\n",
       "<td>0.9681183</td>\n",
       "<td>271.0</td></tr>\n",
       "<tr><td>max precision</td>\n",
       "<td>0.9996306</td>\n",
       "<td>1.0</td>\n",
       "<td>0.0</td></tr>\n",
       "<tr><td>max recall</td>\n",
       "<td>0.0000040</td>\n",
       "<td>1.0</td>\n",
       "<td>399.0</td></tr>\n",
       "<tr><td>max specificity</td>\n",
       "<td>0.9996306</td>\n",
       "<td>1.0</td>\n",
       "<td>0.0</td></tr>\n",
       "<tr><td>max absolute_mcc</td>\n",
       "<td>0.3350249</td>\n",
       "<td>0.9303406</td>\n",
       "<td>276.0</td></tr>\n",
       "<tr><td>max min_per_class_accuracy</td>\n",
       "<td>0.3575704</td>\n",
       "<td>0.9677617</td>\n",
       "<td>270.0</td></tr>\n",
       "<tr><td>max mean_per_class_accuracy</td>\n",
       "<td>0.2162471</td>\n",
       "<td>0.9692832</td>\n",
       "<td>307.0</td></tr></table></div>"
      ],
      "text/plain": [
       "metric                       threshold    value     idx\n",
       "---------------------------  -----------  --------  -----\n",
       "max f1                       0.335025     0.954565  276\n",
       "max f2                       0.0924018    0.972548  347\n",
       "max f0point5                 0.704366     0.952961  176\n",
       "max accuracy                 0.353886     0.968118  271\n",
       "max precision                0.999631     1         0\n",
       "max recall                   4.04863e-06  1         399\n",
       "max specificity              0.999631     1         0\n",
       "max absolute_mcc             0.335025     0.930341  276\n",
       "max min_per_class_accuracy   0.35757      0.967762  270\n",
       "max mean_per_class_accuracy  0.216247     0.969283  307"
      ]
     },
     "metadata": {},
     "output_type": "display_data"
    },
    {
     "name": "stdout",
     "output_type": "stream",
     "text": [
      "Gains/Lift Table: Avg response rate: 34.49 %, avg score: 33.62 %\n",
      "\n"
     ]
    },
    {
     "data": {
      "text/html": [
       "<div style=\"overflow:auto\"><table style=\"width:50%\"><tr><td><b></b></td>\n",
       "<td><b>group</b></td>\n",
       "<td><b>cumulative_data_fraction</b></td>\n",
       "<td><b>lower_threshold</b></td>\n",
       "<td><b>lift</b></td>\n",
       "<td><b>cumulative_lift</b></td>\n",
       "<td><b>response_rate</b></td>\n",
       "<td><b>score</b></td>\n",
       "<td><b>cumulative_response_rate</b></td>\n",
       "<td><b>cumulative_score</b></td>\n",
       "<td><b>capture_rate</b></td>\n",
       "<td><b>cumulative_capture_rate</b></td>\n",
       "<td><b>gain</b></td>\n",
       "<td><b>cumulative_gain</b></td></tr>\n",
       "<tr><td></td>\n",
       "<td>1</td>\n",
       "<td>0.0100573</td>\n",
       "<td>0.9994712</td>\n",
       "<td>2.8996792</td>\n",
       "<td>2.8996792</td>\n",
       "<td>1.0</td>\n",
       "<td>0.9995903</td>\n",
       "<td>1.0</td>\n",
       "<td>0.9995903</td>\n",
       "<td>0.0291630</td>\n",
       "<td>0.0291630</td>\n",
       "<td>189.9679207</td>\n",
       "<td>189.9679207</td></tr>\n",
       "<tr><td></td>\n",
       "<td>2</td>\n",
       "<td>0.0200141</td>\n",
       "<td>0.9993088</td>\n",
       "<td>2.8996792</td>\n",
       "<td>2.8996792</td>\n",
       "<td>1.0</td>\n",
       "<td>0.9993901</td>\n",
       "<td>1.0</td>\n",
       "<td>0.9994907</td>\n",
       "<td>0.0288714</td>\n",
       "<td>0.0580344</td>\n",
       "<td>189.9679207</td>\n",
       "<td>189.9679207</td></tr>\n",
       "<tr><td></td>\n",
       "<td>3</td>\n",
       "<td>0.0300714</td>\n",
       "<td>0.9990952</td>\n",
       "<td>2.8996792</td>\n",
       "<td>2.8996792</td>\n",
       "<td>1.0</td>\n",
       "<td>0.9992160</td>\n",
       "<td>1.0</td>\n",
       "<td>0.9993988</td>\n",
       "<td>0.0291630</td>\n",
       "<td>0.0871974</td>\n",
       "<td>189.9679207</td>\n",
       "<td>189.9679207</td></tr>\n",
       "<tr><td></td>\n",
       "<td>4</td>\n",
       "<td>0.0400282</td>\n",
       "<td>0.9988597</td>\n",
       "<td>2.8996792</td>\n",
       "<td>2.8996792</td>\n",
       "<td>1.0</td>\n",
       "<td>0.9989710</td>\n",
       "<td>1.0</td>\n",
       "<td>0.9992924</td>\n",
       "<td>0.0288714</td>\n",
       "<td>0.1160688</td>\n",
       "<td>189.9679207</td>\n",
       "<td>189.9679207</td></tr>\n",
       "<tr><td></td>\n",
       "<td>5</td>\n",
       "<td>0.0500855</td>\n",
       "<td>0.9985257</td>\n",
       "<td>2.8996792</td>\n",
       "<td>2.8996792</td>\n",
       "<td>1.0</td>\n",
       "<td>0.9986853</td>\n",
       "<td>1.0</td>\n",
       "<td>0.9991705</td>\n",
       "<td>0.0291630</td>\n",
       "<td>0.1452318</td>\n",
       "<td>189.9679207</td>\n",
       "<td>189.9679207</td></tr>\n",
       "<tr><td></td>\n",
       "<td>6</td>\n",
       "<td>0.1000704</td>\n",
       "<td>0.9959706</td>\n",
       "<td>2.8705074</td>\n",
       "<td>2.8851080</td>\n",
       "<td>0.9899396</td>\n",
       "<td>0.9974072</td>\n",
       "<td>0.9949749</td>\n",
       "<td>0.9982898</td>\n",
       "<td>0.1434821</td>\n",
       "<td>0.2887139</td>\n",
       "<td>187.0507384</td>\n",
       "<td>188.5107954</td></tr>\n",
       "<tr><td></td>\n",
       "<td>7</td>\n",
       "<td>0.1500553</td>\n",
       "<td>0.9911912</td>\n",
       "<td>2.8705074</td>\n",
       "<td>2.8802444</td>\n",
       "<td>0.9899396</td>\n",
       "<td>0.9938627</td>\n",
       "<td>0.9932976</td>\n",
       "<td>0.9968151</td>\n",
       "<td>0.1434821</td>\n",
       "<td>0.4321960</td>\n",
       "<td>187.0507384</td>\n",
       "<td>188.0244360</td></tr>\n",
       "<tr><td></td>\n",
       "<td>8</td>\n",
       "<td>0.2000402</td>\n",
       "<td>0.9809428</td>\n",
       "<td>2.8413356</td>\n",
       "<td>2.8705221</td>\n",
       "<td>0.9798793</td>\n",
       "<td>0.9868558</td>\n",
       "<td>0.9899447</td>\n",
       "<td>0.9943265</td>\n",
       "<td>0.1420239</td>\n",
       "<td>0.5742199</td>\n",
       "<td>184.1335561</td>\n",
       "<td>187.0522050</td></tr>\n",
       "<tr><td></td>\n",
       "<td>9</td>\n",
       "<td>0.3000101</td>\n",
       "<td>0.8693353</td>\n",
       "<td>2.7304826</td>\n",
       "<td>2.8238579</td>\n",
       "<td>0.9416499</td>\n",
       "<td>0.9459859</td>\n",
       "<td>0.9738518</td>\n",
       "<td>0.9782184</td>\n",
       "<td>0.2729659</td>\n",
       "<td>0.8471858</td>\n",
       "<td>173.0482633</td>\n",
       "<td>182.3857893</td></tr>\n",
       "<tr><td></td>\n",
       "<td>10</td>\n",
       "<td>0.3999799</td>\n",
       "<td>0.0143778</td>\n",
       "<td>1.5023489</td>\n",
       "<td>2.4935637</td>\n",
       "<td>0.5181087</td>\n",
       "<td>0.4260777</td>\n",
       "<td>0.8599447</td>\n",
       "<td>0.8402179</td>\n",
       "<td>0.1501896</td>\n",
       "<td>0.9973753</td>\n",
       "<td>50.2348885</td>\n",
       "<td>149.3563713</td></tr>\n",
       "<tr><td></td>\n",
       "<td>11</td>\n",
       "<td>0.5000503</td>\n",
       "<td>0.0000000</td>\n",
       "<td>0.0262283</td>\n",
       "<td>1.9997989</td>\n",
       "<td>0.0090452</td>\n",
       "<td>0.0015313</td>\n",
       "<td>0.6896621</td>\n",
       "<td>0.6723794</td>\n",
       "<td>0.0026247</td>\n",
       "<td>1.0</td>\n",
       "<td>-97.3771746</td>\n",
       "<td>99.9798874</td></tr>\n",
       "<tr><td></td>\n",
       "<td>12</td>\n",
       "<td>0.6000201</td>\n",
       "<td>0.0000000</td>\n",
       "<td>0.0</td>\n",
       "<td>1.6666108</td>\n",
       "<td>0.0</td>\n",
       "<td>0.0000000</td>\n",
       "<td>0.5747570</td>\n",
       "<td>0.5603537</td>\n",
       "<td>0.0</td>\n",
       "<td>1.0</td>\n",
       "<td>-100.0</td>\n",
       "<td>66.6610795</td></tr>\n",
       "<tr><td></td>\n",
       "<td>13</td>\n",
       "<td>0.6999899</td>\n",
       "<td>0.0000000</td>\n",
       "<td>0.0</td>\n",
       "<td>1.4285920</td>\n",
       "<td>0.0</td>\n",
       "<td>0.0000000</td>\n",
       "<td>0.4926724</td>\n",
       "<td>0.4803262</td>\n",
       "<td>0.0</td>\n",
       "<td>1.0</td>\n",
       "<td>-100.0</td>\n",
       "<td>42.8591954</td></tr>\n",
       "<tr><td></td>\n",
       "<td>14</td>\n",
       "<td>0.7999598</td>\n",
       "<td>0.0000000</td>\n",
       "<td>0.0</td>\n",
       "<td>1.2500629</td>\n",
       "<td>0.0</td>\n",
       "<td>0.0000000</td>\n",
       "<td>0.4311038</td>\n",
       "<td>0.4203005</td>\n",
       "<td>0.0</td>\n",
       "<td>1.0</td>\n",
       "<td>-100.0</td>\n",
       "<td>25.0062861</td></tr>\n",
       "<tr><td></td>\n",
       "<td>15</td>\n",
       "<td>0.8999296</td>\n",
       "<td>0.0000000</td>\n",
       "<td>0.0</td>\n",
       "<td>1.1111980</td>\n",
       "<td>0.0</td>\n",
       "<td>0.0000000</td>\n",
       "<td>0.3832141</td>\n",
       "<td>0.3736109</td>\n",
       "<td>0.0</td>\n",
       "<td>1.0</td>\n",
       "<td>-100.0</td>\n",
       "<td>11.1198033</td></tr>\n",
       "<tr><td></td>\n",
       "<td>16</td>\n",
       "<td>1.0</td>\n",
       "<td>0.0000000</td>\n",
       "<td>0.0</td>\n",
       "<td>1.0</td>\n",
       "<td>0.0</td>\n",
       "<td>0.0000000</td>\n",
       "<td>0.3448657</td>\n",
       "<td>0.3362235</td>\n",
       "<td>0.0</td>\n",
       "<td>1.0</td>\n",
       "<td>-100.0</td>\n",
       "<td>0.0</td></tr></table></div>"
      ],
      "text/plain": [
       "    group    cumulative_data_fraction    lower_threshold    lift       cumulative_lift    response_rate    score        cumulative_response_rate    cumulative_score    capture_rate    cumulative_capture_rate    gain      cumulative_gain\n",
       "--  -------  --------------------------  -----------------  ---------  -----------------  ---------------  -----------  --------------------------  ------------------  --------------  -------------------------  --------  -----------------\n",
       "    1        0.0100573                   0.999471           2.89968    2.89968            1                0.99959      1                           0.99959             0.029163        0.029163                   189.968   189.968\n",
       "    2        0.0200141                   0.999309           2.89968    2.89968            1                0.99939      1                           0.999491            0.0288714       0.0580344                  189.968   189.968\n",
       "    3        0.0300714                   0.999095           2.89968    2.89968            1                0.999216     1                           0.999399            0.029163        0.0871974                  189.968   189.968\n",
       "    4        0.0400282                   0.99886            2.89968    2.89968            1                0.998971     1                           0.999292            0.0288714       0.116069                   189.968   189.968\n",
       "    5        0.0500855                   0.998526           2.89968    2.89968            1                0.998685     1                           0.99917             0.029163        0.145232                   189.968   189.968\n",
       "    6        0.10007                     0.995971           2.87051    2.88511            0.98994          0.997407     0.994975                    0.99829             0.143482        0.288714                   187.051   188.511\n",
       "    7        0.150055                    0.991191           2.87051    2.88024            0.98994          0.993863     0.993298                    0.996815            0.143482        0.432196                   187.051   188.024\n",
       "    8        0.20004                     0.980943           2.84134    2.87052            0.979879         0.986856     0.989945                    0.994327            0.142024        0.57422                    184.134   187.052\n",
       "    9        0.30001                     0.869335           2.73048    2.82386            0.94165          0.945986     0.973852                    0.978218            0.272966        0.847186                   173.048   182.386\n",
       "    10       0.39998                     0.0143778          1.50235    2.49356            0.518109         0.426078     0.859945                    0.840218            0.15019         0.997375                   50.2349   149.356\n",
       "    11       0.50005                     6.46182e-10        0.0262283  1.9998             0.00904523       0.00153134   0.689662                    0.672379            0.00262467      1                          -97.3772  99.9799\n",
       "    12       0.60002                     6.40054e-16        0          1.66661            0                2.57091e-11  0.574757                    0.560354            0               1                          -100      66.6611\n",
       "    13       0.69999                     3.71627e-20        0          1.42859            0                6.41254e-17  0.492672                    0.480326            0               1                          -100      42.8592\n",
       "    14       0.79996                     4.25687e-25        0          1.25006            0                3.46462e-21  0.431104                    0.420301            0               1                          -100      25.0063\n",
       "    15       0.89993                     2.75025e-44        0          1.1112             0                2.00332e-26  0.383214                    0.373611            0               1                          -100      11.1198\n",
       "    16       1                           2.41404e-57        0          1                  0                2.11642e-45  0.344866                    0.336224            0               1                          -100      0"
      ]
     },
     "metadata": {},
     "output_type": "display_data"
    },
    {
     "name": "stdout",
     "output_type": "stream",
     "text": [
      "\n",
      "\n",
      "ModelMetricsBinomial: deeplearning\n",
      "** Reported on validation data. **\n",
      "\n",
      "MSE: 0.026983463494991273\n",
      "RMSE: 0.16426644056225018\n",
      "LogLoss: 0.09393055248504079\n",
      "Mean Per-Class Error: 0.03167270176204773\n",
      "AUC: 0.9935482160396819\n",
      "pr_auc: 0.9394616467994488\n",
      "Gini: 0.9870964320793638\n",
      "Confusion Matrix (Act/Pred) for max f1 @ threshold = 0.2672547145964945: \n"
     ]
    },
    {
     "data": {
      "text/html": [
       "<div style=\"overflow:auto\"><table style=\"width:50%\"><tr><td><b></b></td>\n",
       "<td><b>b</b></td>\n",
       "<td><b>s</b></td>\n",
       "<td><b>Error</b></td>\n",
       "<td><b>Rate</b></td></tr>\n",
       "<tr><td>b</td>\n",
       "<td>31600.0</td>\n",
       "<td>1284.0</td>\n",
       "<td>0.039</td>\n",
       "<td> (1284.0/32884.0)</td></tr>\n",
       "<tr><td>s</td>\n",
       "<td>428.0</td>\n",
       "<td>16607.0</td>\n",
       "<td>0.0251</td>\n",
       "<td> (428.0/17035.0)</td></tr>\n",
       "<tr><td>Total</td>\n",
       "<td>32028.0</td>\n",
       "<td>17891.0</td>\n",
       "<td>0.0343</td>\n",
       "<td> (1712.0/49919.0)</td></tr></table></div>"
      ],
      "text/plain": [
       "       b      s      Error    Rate\n",
       "-----  -----  -----  -------  ----------------\n",
       "b      31600  1284   0.039    (1284.0/32884.0)\n",
       "s      428    16607  0.0251   (428.0/17035.0)\n",
       "Total  32028  17891  0.0343   (1712.0/49919.0)"
      ]
     },
     "metadata": {},
     "output_type": "display_data"
    },
    {
     "name": "stdout",
     "output_type": "stream",
     "text": [
      "Maximum Metrics: Maximum metrics at their respective thresholds\n",
      "\n"
     ]
    },
    {
     "data": {
      "text/html": [
       "<div style=\"overflow:auto\"><table style=\"width:50%\"><tr><td><b>metric</b></td>\n",
       "<td><b>threshold</b></td>\n",
       "<td><b>value</b></td>\n",
       "<td><b>idx</b></td></tr>\n",
       "<tr><td>max f1</td>\n",
       "<td>0.2672547</td>\n",
       "<td>0.9509821</td>\n",
       "<td>298.0</td></tr>\n",
       "<tr><td>max f2</td>\n",
       "<td>0.0661181</td>\n",
       "<td>0.9713127</td>\n",
       "<td>360.0</td></tr>\n",
       "<tr><td>max f0point5</td>\n",
       "<td>0.7193755</td>\n",
       "<td>0.9504917</td>\n",
       "<td>166.0</td></tr>\n",
       "<tr><td>max accuracy</td>\n",
       "<td>0.3104994</td>\n",
       "<td>0.9657445</td>\n",
       "<td>285.0</td></tr>\n",
       "<tr><td>max precision</td>\n",
       "<td>0.9974057</td>\n",
       "<td>0.9960730</td>\n",
       "<td>6.0</td></tr>\n",
       "<tr><td>max recall</td>\n",
       "<td>0.0000019</td>\n",
       "<td>1.0</td>\n",
       "<td>399.0</td></tr>\n",
       "<tr><td>max specificity</td>\n",
       "<td>0.9995351</td>\n",
       "<td>0.9998784</td>\n",
       "<td>0.0</td></tr>\n",
       "<tr><td>max absolute_mcc</td>\n",
       "<td>0.2672547</td>\n",
       "<td>0.9252895</td>\n",
       "<td>298.0</td></tr>\n",
       "<tr><td>max min_per_class_accuracy</td>\n",
       "<td>0.3599689</td>\n",
       "<td>0.9656368</td>\n",
       "<td>271.0</td></tr>\n",
       "<tr><td>max mean_per_class_accuracy</td>\n",
       "<td>0.2077618</td>\n",
       "<td>0.9683273</td>\n",
       "<td>314.0</td></tr></table></div>"
      ],
      "text/plain": [
       "metric                       threshold    value     idx\n",
       "---------------------------  -----------  --------  -----\n",
       "max f1                       0.267255     0.950982  298\n",
       "max f2                       0.0661181    0.971313  360\n",
       "max f0point5                 0.719376     0.950492  166\n",
       "max accuracy                 0.310499     0.965745  285\n",
       "max precision                0.997406     0.996073  6\n",
       "max recall                   1.8941e-06   1         399\n",
       "max specificity              0.999535     0.999878  0\n",
       "max absolute_mcc             0.267255     0.925289  298\n",
       "max min_per_class_accuracy   0.359969     0.965637  271\n",
       "max mean_per_class_accuracy  0.207762     0.968327  314"
      ]
     },
     "metadata": {},
     "output_type": "display_data"
    },
    {
     "name": "stdout",
     "output_type": "stream",
     "text": [
      "Gains/Lift Table: Avg response rate: 34.13 %, avg score: 33.33 %\n",
      "\n"
     ]
    },
    {
     "data": {
      "text/html": [
       "<div style=\"overflow:auto\"><table style=\"width:50%\"><tr><td><b></b></td>\n",
       "<td><b>group</b></td>\n",
       "<td><b>cumulative_data_fraction</b></td>\n",
       "<td><b>lower_threshold</b></td>\n",
       "<td><b>lift</b></td>\n",
       "<td><b>cumulative_lift</b></td>\n",
       "<td><b>response_rate</b></td>\n",
       "<td><b>score</b></td>\n",
       "<td><b>cumulative_response_rate</b></td>\n",
       "<td><b>cumulative_score</b></td>\n",
       "<td><b>capture_rate</b></td>\n",
       "<td><b>cumulative_capture_rate</b></td>\n",
       "<td><b>gain</b></td>\n",
       "<td><b>cumulative_gain</b></td></tr>\n",
       "<tr><td></td>\n",
       "<td>1</td>\n",
       "<td>0.0100162</td>\n",
       "<td>0.9995069</td>\n",
       "<td>2.9186571</td>\n",
       "<td>2.9186571</td>\n",
       "<td>0.996</td>\n",
       "<td>0.9996077</td>\n",
       "<td>0.996</td>\n",
       "<td>0.9996077</td>\n",
       "<td>0.0292339</td>\n",
       "<td>0.0292339</td>\n",
       "<td>191.8657118</td>\n",
       "<td>191.8657118</td></tr>\n",
       "<tr><td></td>\n",
       "<td>2</td>\n",
       "<td>0.0200124</td>\n",
       "<td>0.9993464</td>\n",
       "<td>2.9127611</td>\n",
       "<td>2.9157121</td>\n",
       "<td>0.9939880</td>\n",
       "<td>0.9994256</td>\n",
       "<td>0.9949950</td>\n",
       "<td>0.9995167</td>\n",
       "<td>0.0291165</td>\n",
       "<td>0.0583505</td>\n",
       "<td>191.2761125</td>\n",
       "<td>191.5712073</td></tr>\n",
       "<tr><td></td>\n",
       "<td>3</td>\n",
       "<td>0.0300086</td>\n",
       "<td>0.9991573</td>\n",
       "<td>2.9186336</td>\n",
       "<td>2.9166853</td>\n",
       "<td>0.9959920</td>\n",
       "<td>0.9992537</td>\n",
       "<td>0.9953271</td>\n",
       "<td>0.9994291</td>\n",
       "<td>0.0291752</td>\n",
       "<td>0.0875257</td>\n",
       "<td>191.8633628</td>\n",
       "<td>191.6685274</td></tr>\n",
       "<tr><td></td>\n",
       "<td>4</td>\n",
       "<td>0.0400048</td>\n",
       "<td>0.9989329</td>\n",
       "<td>2.9127611</td>\n",
       "<td>2.9157047</td>\n",
       "<td>0.9939880</td>\n",
       "<td>0.9990448</td>\n",
       "<td>0.9949925</td>\n",
       "<td>0.9993331</td>\n",
       "<td>0.0291165</td>\n",
       "<td>0.1166422</td>\n",
       "<td>191.2761125</td>\n",
       "<td>191.5704728</td></tr>\n",
       "<tr><td></td>\n",
       "<td>5</td>\n",
       "<td>0.0500010</td>\n",
       "<td>0.9986417</td>\n",
       "<td>2.9186336</td>\n",
       "<td>2.9162903</td>\n",
       "<td>0.9959920</td>\n",
       "<td>0.9987960</td>\n",
       "<td>0.9951923</td>\n",
       "<td>0.9992257</td>\n",
       "<td>0.0291752</td>\n",
       "<td>0.1458174</td>\n",
       "<td>191.8633628</td>\n",
       "<td>191.6290273</td></tr>\n",
       "<tr><td></td>\n",
       "<td>6</td>\n",
       "<td>0.1000020</td>\n",
       "<td>0.9963053</td>\n",
       "<td>2.9174643</td>\n",
       "<td>2.9168773</td>\n",
       "<td>0.9955929</td>\n",
       "<td>0.9976350</td>\n",
       "<td>0.9953926</td>\n",
       "<td>0.9984304</td>\n",
       "<td>0.1458761</td>\n",
       "<td>0.2916936</td>\n",
       "<td>191.7464303</td>\n",
       "<td>191.6877288</td></tr>\n",
       "<tr><td></td>\n",
       "<td>7</td>\n",
       "<td>0.1500030</td>\n",
       "<td>0.9912811</td>\n",
       "<td>2.8998539</td>\n",
       "<td>2.9112028</td>\n",
       "<td>0.9895833</td>\n",
       "<td>0.9940837</td>\n",
       "<td>0.9934562</td>\n",
       "<td>0.9969815</td>\n",
       "<td>0.1449956</td>\n",
       "<td>0.4366892</td>\n",
       "<td>189.9853855</td>\n",
       "<td>191.1202811</td></tr>\n",
       "<tr><td></td>\n",
       "<td>8</td>\n",
       "<td>0.2000040</td>\n",
       "<td>0.9806239</td>\n",
       "<td>2.8775473</td>\n",
       "<td>2.9027889</td>\n",
       "<td>0.9819712</td>\n",
       "<td>0.9867037</td>\n",
       "<td>0.9905849</td>\n",
       "<td>0.9944120</td>\n",
       "<td>0.1438802</td>\n",
       "<td>0.5805694</td>\n",
       "<td>187.7547287</td>\n",
       "<td>190.2788930</td></tr>\n",
       "<tr><td></td>\n",
       "<td>9</td>\n",
       "<td>0.3000060</td>\n",
       "<td>0.8529223</td>\n",
       "<td>2.7407728</td>\n",
       "<td>2.8487836</td>\n",
       "<td>0.9352965</td>\n",
       "<td>0.9411122</td>\n",
       "<td>0.9721554</td>\n",
       "<td>0.9766454</td>\n",
       "<td>0.2740828</td>\n",
       "<td>0.8546522</td>\n",
       "<td>174.0772803</td>\n",
       "<td>184.8783554</td></tr>\n",
       "<tr><td></td>\n",
       "<td>10</td>\n",
       "<td>0.4000080</td>\n",
       "<td>0.0090212</td>\n",
       "<td>1.4381866</td>\n",
       "<td>2.4961343</td>\n",
       "<td>0.4907853</td>\n",
       "<td>0.4020621</td>\n",
       "<td>0.8518129</td>\n",
       "<td>0.8329996</td>\n",
       "<td>0.1438215</td>\n",
       "<td>0.9984737</td>\n",
       "<td>43.8186628</td>\n",
       "<td>149.6134323</td></tr>\n",
       "<tr><td></td>\n",
       "<td>11</td>\n",
       "<td>0.5000100</td>\n",
       "<td>0.0000000</td>\n",
       "<td>0.0152624</td>\n",
       "<td>1.9999599</td>\n",
       "<td>0.0052083</td>\n",
       "<td>0.0008930</td>\n",
       "<td>0.6824920</td>\n",
       "<td>0.6665783</td>\n",
       "<td>0.0015263</td>\n",
       "<td>1.0</td>\n",
       "<td>-98.4737611</td>\n",
       "<td>99.9959936</td></tr>\n",
       "<tr><td></td>\n",
       "<td>12</td>\n",
       "<td>0.5999920</td>\n",
       "<td>0.0000000</td>\n",
       "<td>0.0</td>\n",
       "<td>1.6666889</td>\n",
       "<td>0.0</td>\n",
       "<td>0.0000000</td>\n",
       "<td>0.5687623</td>\n",
       "<td>0.5555004</td>\n",
       "<td>0.0</td>\n",
       "<td>1.0</td>\n",
       "<td>-100.0</td>\n",
       "<td>66.6688925</td></tr>\n",
       "<tr><td></td>\n",
       "<td>13</td>\n",
       "<td>0.6999940</td>\n",
       "<td>0.0000000</td>\n",
       "<td>0.0</td>\n",
       "<td>1.4285837</td>\n",
       "<td>0.0</td>\n",
       "<td>0.0000000</td>\n",
       "<td>0.4875082</td>\n",
       "<td>0.4761410</td>\n",
       "<td>0.0</td>\n",
       "<td>1.0</td>\n",
       "<td>-100.0</td>\n",
       "<td>42.8583693</td></tr>\n",
       "<tr><td></td>\n",
       "<td>14</td>\n",
       "<td>0.7999960</td>\n",
       "<td>0.0000000</td>\n",
       "<td>0.0</td>\n",
       "<td>1.2500063</td>\n",
       "<td>0.0</td>\n",
       "<td>0.0000000</td>\n",
       "<td>0.4265682</td>\n",
       "<td>0.4166219</td>\n",
       "<td>0.0</td>\n",
       "<td>1.0</td>\n",
       "<td>-100.0</td>\n",
       "<td>25.0006260</td></tr>\n",
       "<tr><td></td>\n",
       "<td>15</td>\n",
       "<td>0.8999980</td>\n",
       "<td>0.0000000</td>\n",
       "<td>0.0</td>\n",
       "<td>1.1111136</td>\n",
       "<td>0.0</td>\n",
       "<td>0.0000000</td>\n",
       "<td>0.3791707</td>\n",
       "<td>0.3703295</td>\n",
       "<td>0.0</td>\n",
       "<td>1.0</td>\n",
       "<td>-100.0</td>\n",
       "<td>11.1113584</td></tr>\n",
       "<tr><td></td>\n",
       "<td>16</td>\n",
       "<td>1.0</td>\n",
       "<td>0.0000000</td>\n",
       "<td>0.0</td>\n",
       "<td>1.0</td>\n",
       "<td>0.0</td>\n",
       "<td>0.0000000</td>\n",
       "<td>0.3412528</td>\n",
       "<td>0.3332958</td>\n",
       "<td>0.0</td>\n",
       "<td>1.0</td>\n",
       "<td>-100.0</td>\n",
       "<td>0.0</td></tr></table></div>"
      ],
      "text/plain": [
       "    group    cumulative_data_fraction    lower_threshold    lift       cumulative_lift    response_rate    score        cumulative_response_rate    cumulative_score    capture_rate    cumulative_capture_rate    gain      cumulative_gain\n",
       "--  -------  --------------------------  -----------------  ---------  -----------------  ---------------  -----------  --------------------------  ------------------  --------------  -------------------------  --------  -----------------\n",
       "    1        0.0100162                   0.999507           2.91866    2.91866            0.996            0.999608     0.996                       0.999608            0.0292339       0.0292339                  191.866   191.866\n",
       "    2        0.0200124                   0.999346           2.91276    2.91571            0.993988         0.999426     0.994995                    0.999517            0.0291165       0.0583505                  191.276   191.571\n",
       "    3        0.0300086                   0.999157           2.91863    2.91669            0.995992         0.999254     0.995327                    0.999429            0.0291752       0.0875257                  191.863   191.669\n",
       "    4        0.0400048                   0.998933           2.91276    2.9157             0.993988         0.999045     0.994992                    0.999333            0.0291165       0.116642                   191.276   191.57\n",
       "    5        0.050001                    0.998642           2.91863    2.91629            0.995992         0.998796     0.995192                    0.999226            0.0291752       0.145817                   191.863   191.629\n",
       "    6        0.100002                    0.996305           2.91746    2.91688            0.995593         0.997635     0.995393                    0.99843             0.145876        0.291694                   191.746   191.688\n",
       "    7        0.150003                    0.991281           2.89985    2.9112             0.989583         0.994084     0.993456                    0.996981            0.144996        0.436689                   189.985   191.12\n",
       "    8        0.200004                    0.980624           2.87755    2.90279            0.981971         0.986704     0.990585                    0.994412            0.14388         0.580569                   187.755   190.279\n",
       "    9        0.300006                    0.852922           2.74077    2.84878            0.935296         0.941112     0.972155                    0.976645            0.274083        0.854652                   174.077   184.878\n",
       "    10       0.400008                    0.00902117         1.43819    2.49613            0.490785         0.402062     0.851813                    0.833               0.143822        0.998474                   43.8187   149.613\n",
       "    11       0.50001                     1.25444e-10        0.0152624  1.99996            0.00520833       0.000892956  0.682492                    0.666578            0.00152627      1                          -98.4738  99.996\n",
       "    12       0.599992                    3.54198e-16        0          1.66669            0                5.79787e-12  0.568762                    0.5555              0               1                          -100      66.6689\n",
       "    13       0.699994                    2.37172e-20        0          1.42858            0                3.99192e-17  0.487508                    0.476141            0               1                          -100      42.8584\n",
       "    14       0.799996                    1.74644e-25        0          1.25001            0                2.30023e-21  0.426568                    0.416622            0               1                          -100      25.0006\n",
       "    15       0.899998                    1.75943e-44        0          1.11111            0                6.93553e-27  0.379171                    0.37033             0               1                          -100      11.1114\n",
       "    16       1                           1.78368e-58        0          1                  0                1.54861e-45  0.341253                    0.333296            0               1                          -100      0"
      ]
     },
     "metadata": {},
     "output_type": "display_data"
    },
    {
     "name": "stdout",
     "output_type": "stream",
     "text": [
      "\n",
      "Scoring History: \n"
     ]
    },
    {
     "data": {
      "text/html": [
       "<div style=\"overflow:auto\"><table style=\"width:50%\"><tr><td><b></b></td>\n",
       "<td><b>timestamp</b></td>\n",
       "<td><b>duration</b></td>\n",
       "<td><b>training_speed</b></td>\n",
       "<td><b>epochs</b></td>\n",
       "<td><b>iterations</b></td>\n",
       "<td><b>samples</b></td>\n",
       "<td><b>training_rmse</b></td>\n",
       "<td><b>training_logloss</b></td>\n",
       "<td><b>training_r2</b></td>\n",
       "<td><b>training_auc</b></td>\n",
       "<td><b>training_pr_auc</b></td>\n",
       "<td><b>training_lift</b></td>\n",
       "<td><b>training_classification_error</b></td>\n",
       "<td><b>validation_rmse</b></td>\n",
       "<td><b>validation_logloss</b></td>\n",
       "<td><b>validation_r2</b></td>\n",
       "<td><b>validation_auc</b></td>\n",
       "<td><b>validation_pr_auc</b></td>\n",
       "<td><b>validation_lift</b></td>\n",
       "<td><b>validation_classification_error</b></td></tr>\n",
       "<tr><td></td>\n",
       "<td>2019-03-04 08:57:47</td>\n",
       "<td> 0.000 sec</td>\n",
       "<td>None</td>\n",
       "<td>0.0</td>\n",
       "<td>0</td>\n",
       "<td>0.0</td>\n",
       "<td>nan</td>\n",
       "<td>nan</td>\n",
       "<td>nan</td>\n",
       "<td>nan</td>\n",
       "<td>nan</td>\n",
       "<td>nan</td>\n",
       "<td>nan</td>\n",
       "<td>nan</td>\n",
       "<td>nan</td>\n",
       "<td>nan</td>\n",
       "<td>nan</td>\n",
       "<td>nan</td>\n",
       "<td>nan</td>\n",
       "<td>nan</td></tr>\n",
       "<tr><td></td>\n",
       "<td>2019-03-04 08:57:52</td>\n",
       "<td> 8.612 sec</td>\n",
       "<td>3159 obs/sec</td>\n",
       "<td>0.1006090</td>\n",
       "<td>1</td>\n",
       "<td>15115.0</td>\n",
       "<td>0.2148575</td>\n",
       "<td>0.1775437</td>\n",
       "<td>0.7956754</td>\n",
       "<td>0.9893354</td>\n",
       "<td>0.8501174</td>\n",
       "<td>2.8416856</td>\n",
       "<td>0.0434477</td>\n",
       "<td>0.2126983</td>\n",
       "<td>0.1727015</td>\n",
       "<td>0.7987513</td>\n",
       "<td>0.9902434</td>\n",
       "<td>0.8057871</td>\n",
       "<td>2.9127964</td>\n",
       "<td>0.0442116</td></tr>\n",
       "<tr><td></td>\n",
       "<td>2019-03-04 08:58:18</td>\n",
       "<td>33.637 sec</td>\n",
       "<td>5877 obs/sec</td>\n",
       "<td>1.0984125</td>\n",
       "<td>11</td>\n",
       "<td>165020.0</td>\n",
       "<td>0.1614715</td>\n",
       "<td>0.0924332</td>\n",
       "<td>0.8845985</td>\n",
       "<td>0.9935350</td>\n",
       "<td>0.9659089</td>\n",
       "<td>2.8996792</td>\n",
       "<td>0.0318817</td>\n",
       "<td>0.1642664</td>\n",
       "<td>0.0939306</td>\n",
       "<td>0.8799664</td>\n",
       "<td>0.9935482</td>\n",
       "<td>0.9394616</td>\n",
       "<td>2.9186571</td>\n",
       "<td>0.0342956</td></tr></table></div>"
      ],
      "text/plain": [
       "    timestamp            duration    training_speed    epochs    iterations    samples    training_rmse    training_logloss    training_r2    training_auc    training_pr_auc    training_lift    training_classification_error    validation_rmse    validation_logloss    validation_r2    validation_auc    validation_pr_auc    validation_lift    validation_classification_error\n",
       "--  -------------------  ----------  ----------------  --------  ------------  ---------  ---------------  ------------------  -------------  --------------  -----------------  ---------------  -------------------------------  -----------------  --------------------  ---------------  ----------------  -------------------  -----------------  ---------------------------------\n",
       "    2019-03-04 08:57:47  0.000 sec                     0         0             0          nan              nan                 nan            nan             nan                nan              nan                              nan                nan                   nan              nan               nan                  nan                nan\n",
       "    2019-03-04 08:57:52  8.612 sec   3159 obs/sec      0.100609  1             15115      0.214857         0.177544            0.795675       0.989335        0.850117           2.84169          0.0434477                        0.212698           0.172702              0.798751         0.990243          0.805787             2.9128             0.0442116\n",
       "    2019-03-04 08:58:18  33.637 sec  5877 obs/sec      1.09841   11            165020     0.161472         0.0924332           0.884598       0.993535        0.965909           2.89968          0.0318817                        0.164266           0.0939306             0.879966         0.993548          0.939462             2.91866            0.0342956"
      ]
     },
     "metadata": {},
     "output_type": "display_data"
    },
    {
     "name": "stdout",
     "output_type": "stream",
     "text": [
      "Variable Importances: \n"
     ]
    },
    {
     "data": {
      "text/html": [
       "<div style=\"overflow:auto\"><table style=\"width:50%\"><tr><td><b>variable</b></td>\n",
       "<td><b>relative_importance</b></td>\n",
       "<td><b>scaled_importance</b></td>\n",
       "<td><b>percentage</b></td></tr>\n",
       "<tr><td>Weight</td>\n",
       "<td>1.0</td>\n",
       "<td>1.0</td>\n",
       "<td>0.1316546</td></tr>\n",
       "<tr><td>DER_mass_vis</td>\n",
       "<td>0.3533085</td>\n",
       "<td>0.3533085</td>\n",
       "<td>0.0465147</td></tr>\n",
       "<tr><td>DER_mass_MMC</td>\n",
       "<td>0.2574570</td>\n",
       "<td>0.2574570</td>\n",
       "<td>0.0338954</td></tr>\n",
       "<tr><td>PRI_jet_leading_pt</td>\n",
       "<td>0.2528853</td>\n",
       "<td>0.2528853</td>\n",
       "<td>0.0332935</td></tr>\n",
       "<tr><td>PRI_jet_leading_eta</td>\n",
       "<td>0.2492421</td>\n",
       "<td>0.2492421</td>\n",
       "<td>0.0328139</td></tr>\n",
       "<tr><td>---</td>\n",
       "<td>---</td>\n",
       "<td>---</td>\n",
       "<td>---</td></tr>\n",
       "<tr><td>PRI_lep_eta</td>\n",
       "<td>0.1895724</td>\n",
       "<td>0.1895724</td>\n",
       "<td>0.0249581</td></tr>\n",
       "<tr><td>PRI_tau_phi</td>\n",
       "<td>0.1706039</td>\n",
       "<td>0.1706039</td>\n",
       "<td>0.0224608</td></tr>\n",
       "<tr><td>PRI_tau_eta</td>\n",
       "<td>0.1646888</td>\n",
       "<td>0.1646888</td>\n",
       "<td>0.0216820</td></tr>\n",
       "<tr><td>PRI_lep_phi</td>\n",
       "<td>0.1551754</td>\n",
       "<td>0.1551754</td>\n",
       "<td>0.0204296</td></tr>\n",
       "<tr><td>PRI_met_phi</td>\n",
       "<td>0.1499753</td>\n",
       "<td>0.1499753</td>\n",
       "<td>0.0197449</td></tr></table></div>"
      ],
      "text/plain": [
       "variable             relative_importance    scaled_importance    percentage\n",
       "-------------------  ---------------------  -------------------  --------------------\n",
       "Weight               1.0                    1.0                  0.13165456166412676\n",
       "DER_mass_vis         0.3533084988594055     0.3533084988594055   0.046514675549545664\n",
       "DER_mass_MMC         0.25745704770088196    0.25745704770088196  0.03389539476239979\n",
       "PRI_jet_leading_pt   0.25288525223731995    0.25288525223731995  0.03329349703462649\n",
       "PRI_jet_leading_eta  0.24924206733703613    0.24924206733703613  0.03281385512351826\n",
       "---                  ---                    ---                  ---\n",
       "PRI_lep_eta          0.18957239389419556    0.18957239389419556  0.024958070421759498\n",
       "PRI_tau_phi          0.17060387134552002    0.17060387134552002  0.022460777900197515\n",
       "PRI_tau_eta          0.1646888256072998     0.1646888256072998   0.02168203514630887\n",
       "PRI_lep_phi          0.15517544746398926    0.15517544746398926  0.020429555516906235\n",
       "PRI_met_phi          0.1499752700328827     0.1499752700328827   0.019744928436638217"
      ]
     },
     "metadata": {},
     "output_type": "display_data"
    },
    {
     "name": "stdout",
     "output_type": "stream",
     "text": [
      "\n",
      "See the whole table with table.as_data_frame()\n",
      "\n"
     ]
    }
   ],
   "source": [
    "higgs_model_v1 = H2ODeepLearningEstimator(model_id = 'higgs_v1', epochs = 1, variable_importances = True)\n",
    "higgs_model_v1.train(higgs_X, higgs_y, training_frame = train, validation_frame = valid)\n",
    "print(higgs_model_v1)"
   ]
  },
  {
   "cell_type": "code",
   "execution_count": 8,
   "metadata": {
    "_uuid": "114dddb25868d787746361f7ba5d5d1352070f36"
   },
   "outputs": [
    {
     "data": {
      "text/html": [
       "<div>\n",
       "<style scoped>\n",
       "    .dataframe tbody tr th:only-of-type {\n",
       "        vertical-align: middle;\n",
       "    }\n",
       "\n",
       "    .dataframe tbody tr th {\n",
       "        vertical-align: top;\n",
       "    }\n",
       "\n",
       "    .dataframe thead th {\n",
       "        text-align: right;\n",
       "    }\n",
       "</style>\n",
       "<table border=\"1\" class=\"dataframe\">\n",
       "  <thead>\n",
       "    <tr style=\"text-align: right;\">\n",
       "      <th></th>\n",
       "      <th>Variable</th>\n",
       "      <th>Relative Importance</th>\n",
       "      <th>Scaled Importance</th>\n",
       "      <th>Percentage</th>\n",
       "    </tr>\n",
       "  </thead>\n",
       "  <tbody>\n",
       "    <tr>\n",
       "      <th>0</th>\n",
       "      <td>Weight</td>\n",
       "      <td>1.000000</td>\n",
       "      <td>1.000000</td>\n",
       "      <td>0.131655</td>\n",
       "    </tr>\n",
       "    <tr>\n",
       "      <th>1</th>\n",
       "      <td>DER_mass_vis</td>\n",
       "      <td>0.353308</td>\n",
       "      <td>0.353308</td>\n",
       "      <td>0.046515</td>\n",
       "    </tr>\n",
       "    <tr>\n",
       "      <th>2</th>\n",
       "      <td>DER_mass_MMC</td>\n",
       "      <td>0.257457</td>\n",
       "      <td>0.257457</td>\n",
       "      <td>0.033895</td>\n",
       "    </tr>\n",
       "    <tr>\n",
       "      <th>3</th>\n",
       "      <td>PRI_jet_leading_pt</td>\n",
       "      <td>0.252885</td>\n",
       "      <td>0.252885</td>\n",
       "      <td>0.033293</td>\n",
       "    </tr>\n",
       "    <tr>\n",
       "      <th>4</th>\n",
       "      <td>PRI_jet_leading_eta</td>\n",
       "      <td>0.249242</td>\n",
       "      <td>0.249242</td>\n",
       "      <td>0.032814</td>\n",
       "    </tr>\n",
       "    <tr>\n",
       "      <th>5</th>\n",
       "      <td>PRI_jet_leading_phi</td>\n",
       "      <td>0.242450</td>\n",
       "      <td>0.242450</td>\n",
       "      <td>0.031920</td>\n",
       "    </tr>\n",
       "    <tr>\n",
       "      <th>6</th>\n",
       "      <td>DER_deltar_tau_lep</td>\n",
       "      <td>0.241886</td>\n",
       "      <td>0.241886</td>\n",
       "      <td>0.031845</td>\n",
       "    </tr>\n",
       "    <tr>\n",
       "      <th>7</th>\n",
       "      <td>DER_sum_pt</td>\n",
       "      <td>0.236687</td>\n",
       "      <td>0.236687</td>\n",
       "      <td>0.031161</td>\n",
       "    </tr>\n",
       "    <tr>\n",
       "      <th>8</th>\n",
       "      <td>DER_deltaeta_jet_jet</td>\n",
       "      <td>0.233596</td>\n",
       "      <td>0.233596</td>\n",
       "      <td>0.030754</td>\n",
       "    </tr>\n",
       "    <tr>\n",
       "      <th>9</th>\n",
       "      <td>PRI_jet_subleading_phi</td>\n",
       "      <td>0.232622</td>\n",
       "      <td>0.232622</td>\n",
       "      <td>0.030626</td>\n",
       "    </tr>\n",
       "  </tbody>\n",
       "</table>\n",
       "</div>"
      ],
      "text/plain": [
       "                 Variable     ...      Percentage\n",
       "0                  Weight     ...        0.131655\n",
       "1            DER_mass_vis     ...        0.046515\n",
       "2            DER_mass_MMC     ...        0.033895\n",
       "3      PRI_jet_leading_pt     ...        0.033293\n",
       "4     PRI_jet_leading_eta     ...        0.032814\n",
       "5     PRI_jet_leading_phi     ...        0.031920\n",
       "6      DER_deltar_tau_lep     ...        0.031845\n",
       "7              DER_sum_pt     ...        0.031161\n",
       "8    DER_deltaeta_jet_jet     ...        0.030754\n",
       "9  PRI_jet_subleading_phi     ...        0.030626\n",
       "\n",
       "[10 rows x 4 columns]"
      ]
     },
     "execution_count": 8,
     "metadata": {},
     "output_type": "execute_result"
    }
   ],
   "source": [
    "var_df = pd.DataFrame(higgs_model_v1.varimp(), columns = ['Variable', 'Relative Importance', 'Scaled Importance', 'Percentage'])\n",
    "var_df.head(10)"
   ]
  },
  {
   "cell_type": "code",
   "execution_count": 9,
   "metadata": {
    "_uuid": "9d5383a375ad2e3c1b0aebe2ed619d346abc03cd"
   },
   "outputs": [
    {
     "data": {
      "image/png": "[encoded data removed]",
      "text/plain": [
       "<Figure size 432x288 with 1 Axes>"
      ]
     },
     "metadata": {},
     "output_type": "display_data"
    }
   ],
   "source": [
    "higgs_v1_df = higgs_model_v1.score_history()\n",
    "plt.plot(higgs_v1_df['training_classification_error'], label=\"training_classification_error\")\n",
    "plt.plot(higgs_v1_df['validation_classification_error'], label=\"validation_classification_error\")\n",
    "plt.title(\"Higgs Deep Learner\")\n",
    "plt.legend();"
   ]
  },
  {
   "cell_type": "code",
   "execution_count": 10,
   "metadata": {
    "_uuid": "47c42d3f9f353361465b294b8407a887ad4744d6"
   },
   "outputs": [
    {
     "name": "stdout",
     "output_type": "stream",
     "text": [
      "deeplearning prediction progress: |███████████████████████████████████████| 100%\n"
     ]
    },
    {
     "data": {
      "text/plain": [
       "0.9668779841913092"
      ]
     },
     "execution_count": 10,
     "metadata": {},
     "output_type": "execute_result"
    }
   ],
   "source": [
    "pred = higgs_model_v1.predict(test[1:-1]).as_data_frame(use_pandas=True)\n",
    "test_actual = test.as_data_frame(use_pandas=True)['Label']\n",
    "(test_actual == pred['predict']).mean()"
   ]
  },
  {
   "cell_type": "code",
   "execution_count": 11,
   "metadata": {
    "_uuid": "01c2d3e7960b21f39eede40f97c1afd7df98ed16"
   },
   "outputs": [
    {
     "name": "stdout",
     "output_type": "stream",
     "text": [
      "deeplearning Model Build progress: |██████████████████████████████████████| 100%\n"
     ]
    }
   ],
   "source": [
    "higgs_model_v2 = H2ODeepLearningEstimator(model_id = 'higgs_v2', hidden = [32, 32, 32], \n",
    "                                          epochs = 1000000, score_validation_samples = 10000, \n",
    "                                          stopping_rounds = 2, stopping_metric = 'misclassification', \n",
    "stopping_tolerance = 0.01)\n",
    "higgs_model_v2.train(higgs_X, higgs_y, training_frame = train, validation_frame = valid)"
   ]
  },
  {
   "cell_type": "code",
   "execution_count": 12,
   "metadata": {
    "_uuid": "8d02fd1a675969dee943c4d1027cee83dc4d5419"
   },
   "outputs": [
    {
     "data": {
      "image/png": "[encoded data removed]",
      "text/plain": [
       "<Figure size 432x288 with 1 Axes>"
      ]
     },
     "metadata": {},
     "output_type": "display_data"
    }
   ],
   "source": [
    "higgs_v2_df = higgs_model_v2.score_history()\n",
    "plt.plot(higgs_v2_df['training_classification_error'], label=\"training_classification_error\")\n",
    "plt.plot(higgs_v2_df['validation_classification_error'], label=\"validation_classification_error\")\n",
    "plt.title(\"Higgs Deep Learner (Early Stop)\")\n",
    "plt.legend();"
   ]
  },
  {
   "cell_type": "code",
   "execution_count": 13,
   "metadata": {
    "_uuid": "ced63d9c32d787af03904213150789e5d67032f0"
   },
   "outputs": [
    {
     "name": "stdout",
     "output_type": "stream",
     "text": [
      "deeplearning prediction progress: |███████████████████████████████████████| 100%\n"
     ]
    },
    {
     "data": {
      "text/plain": [
       "0.9986959836295791"
      ]
     },
     "execution_count": 13,
     "metadata": {},
     "output_type": "execute_result"
    }
   ],
   "source": [
    "pred = higgs_model_v2.predict(test[1:-1]).as_data_frame(use_pandas=True)\n",
    "test_actual = test.as_data_frame(use_pandas=True)['Label']\n",
    "(test_actual == pred['predict']).mean()"
   ]
  },
  {
   "cell_type": "code",
   "execution_count": 14,
   "metadata": {
    "_uuid": "944622e1c415d2e7f1f8f34c0abc384560fdd6e7"
   },
   "outputs": [
    {
     "data": {
      "image/png": "[encoded data removed]",
      "text/plain": [
       "<Figure size 1008x720 with 1 Axes>"
      ]
     },
     "metadata": {},
     "output_type": "display_data"
    }
   ],
   "source": [
    "higgs_model_v2.varimp_plot();"
   ]
  },
  {
   "cell_type": "code",
   "execution_count": 15,
   "metadata": {
    "_uuid": "0e577348640ef45cc32184d99daa923fd4b8c270"
   },
   "outputs": [
    {
     "name": "stdout",
     "output_type": "stream",
     "text": [
      "AutoML progress: |████████████████████████████████████████████████████████| 100%\n"
     ]
    },
    {
     "data": {
      "text/html": [
       "<table>\n",
       "<thead>\n",
       "<tr><th>model_id                                           </th><th style=\"text-align: right;\">     auc</th><th style=\"text-align: right;\">    logloss</th><th style=\"text-align: right;\">  mean_per_class_error</th><th style=\"text-align: right;\">      rmse</th><th style=\"text-align: right;\">        mse</th></tr>\n",
       "</thead>\n",
       "<tbody>\n",
       "<tr><td>XRT_1_AutoML_20190304_090000                       </td><td style=\"text-align: right;\">1       </td><td style=\"text-align: right;\">0.0110086  </td><td style=\"text-align: right;\">           0          </td><td style=\"text-align: right;\">0.0397093 </td><td style=\"text-align: right;\">0.00157683 </td></tr>\n",
       "<tr><td>StackedEnsemble_AllModels_AutoML_20190304_090000   </td><td style=\"text-align: right;\">1       </td><td style=\"text-align: right;\">0.000344357</td><td style=\"text-align: right;\">           0          </td><td style=\"text-align: right;\">0.00192309</td><td style=\"text-align: right;\">3.69828e-06</td></tr>\n",
       "<tr><td>StackedEnsemble_BestOfFamily_AutoML_20190304_090000</td><td style=\"text-align: right;\">1       </td><td style=\"text-align: right;\">0.000344357</td><td style=\"text-align: right;\">           0          </td><td style=\"text-align: right;\">0.00192309</td><td style=\"text-align: right;\">3.69828e-06</td></tr>\n",
       "<tr><td>DRF_1_AutoML_20190304_090000                       </td><td style=\"text-align: right;\">1       </td><td style=\"text-align: right;\">0.0138703  </td><td style=\"text-align: right;\">           1.47664e-05</td><td style=\"text-align: right;\">0.0458373 </td><td style=\"text-align: right;\">0.00210105 </td></tr>\n",
       "<tr><td>GLM_grid_1_AutoML_20190304_090000_model_1          </td><td style=\"text-align: right;\">0.994749</td><td style=\"text-align: right;\">0.0932277  </td><td style=\"text-align: right;\">           0.0283046  </td><td style=\"text-align: right;\">0.159485  </td><td style=\"text-align: right;\">0.0254355  </td></tr>\n",
       "</tbody>\n",
       "</table>"
      ]
     },
     "metadata": {},
     "output_type": "display_data"
    },
    {
     "data": {
      "text/plain": []
     },
     "execution_count": 15,
     "metadata": {},
     "output_type": "execute_result"
    }
   ],
   "source": [
    "from h2o.automl import H2OAutoML\n",
    "aml = H2OAutoML(max_models = 10, max_runtime_secs=100, seed = 1)\n",
    "aml.train(higgs_X, higgs_y, training_frame = train, validation_frame = valid)\n",
    "aml.leaderboard"
   ]
  },
  {
   "cell_type": "code",
   "execution_count": 16,
   "metadata": {
    "_uuid": "958c02e2533b2f5b9f8015547b165f45016faf5b"
   },
   "outputs": [],
   "source": []
  },
  {
   "cell_type": "code",
   "execution_count": 16,
   "metadata": {
    "_uuid": "b40baa13ebe5186c6d4cc92fa17b55e7275f335d"
   },
   "outputs": [],
   "source": []
  }
 ],
 "metadata": {
  "kernelspec": {
   "display_name": "Python 3",
   "language": "python",
   "name": "python3"
  },
  "language_info": {
   "codemirror_mode": {
    "name": "ipython",
    "version": 3
   },
   "file_extension": ".py",
   "mimetype": "text/x-python",
   "name": "python",
   "nbconvert_exporter": "python",
   "pygments_lexer": "ipython3",
   "version": "3.6.6"
  }
 },
 "nbformat": 4,
 "nbformat_minor": 1
}
